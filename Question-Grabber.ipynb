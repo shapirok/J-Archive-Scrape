{
 "cells": [
  {
   "cell_type": "code",
   "execution_count": null,
   "metadata": {},
   "outputs": [
    {
     "name": "stdout",
     "output_type": "stream",
     "text": [
      "\u001b[31mERROR: Could not find a version that satisfies the requirement tkinter (from versions: none)\u001b[0m\u001b[31m\n",
      "\u001b[0m\u001b[31mERROR: No matching distribution found for tkinter\u001b[0m\u001b[31m\n",
      "\u001b[0m\n",
      "\u001b[1m[\u001b[0m\u001b[34;49mnotice\u001b[0m\u001b[1;39;49m]\u001b[0m\u001b[39;49m A new release of pip is available: \u001b[0m\u001b[31;49m23.1.2\u001b[0m\u001b[39;49m -> \u001b[0m\u001b[32;49m24.2\u001b[0m\n",
      "\u001b[1m[\u001b[0m\u001b[34;49mnotice\u001b[0m\u001b[1;39;49m]\u001b[0m\u001b[39;49m To update, run: \u001b[0m\u001b[32;49mpython3.11 -m pip install --upgrade pip\u001b[0m\n",
      "Note: you may need to restart the kernel to use updated packages.\n"
     ]
    }
   ],
   "source": [
    "pip install tkinter"
   ]
  },
  {
   "cell_type": "code",
   "execution_count": null,
   "metadata": {},
   "outputs": [
    {
     "ename": "ModuleNotFoundError",
     "evalue": "No module named '_tkinter'",
     "output_type": "error",
     "traceback": [
      "\u001b[0;31m---------------------------------------------------------------------------\u001b[0m",
      "\u001b[0;31mModuleNotFoundError\u001b[0m                       Traceback (most recent call last)",
      "Cell \u001b[0;32mIn[19], line 3\u001b[0m\n\u001b[1;32m      1\u001b[0m \u001b[38;5;28;01mimport\u001b[39;00m \u001b[38;5;21;01mpandas\u001b[39;00m \u001b[38;5;28;01mas\u001b[39;00m \u001b[38;5;21;01mpd\u001b[39;00m\n\u001b[1;32m      2\u001b[0m \u001b[38;5;28;01mimport\u001b[39;00m \u001b[38;5;21;01mrandom\u001b[39;00m\n\u001b[0;32m----> 3\u001b[0m \u001b[38;5;28;01mimport\u001b[39;00m \u001b[38;5;21;01mtkinter\u001b[39;00m \u001b[38;5;28;01mas\u001b[39;00m \u001b[38;5;21;01mtk\u001b[39;00m\n\u001b[1;32m      4\u001b[0m \u001b[38;5;28;01mfrom\u001b[39;00m \u001b[38;5;21;01mtkinter\u001b[39;00m \u001b[38;5;28;01mimport\u001b[39;00m messagebox\n\u001b[1;32m      6\u001b[0m \u001b[38;5;28;01mdef\u001b[39;00m \u001b[38;5;21mpick_question\u001b[39m():\n\u001b[1;32m      7\u001b[0m     \u001b[38;5;66;03m# Randomly select a category\u001b[39;00m\n",
      "File \u001b[0;32m/opt/homebrew/Cellar/python@3.11/3.11.3/Frameworks/Python.framework/Versions/3.11/lib/python3.11/tkinter/__init__.py:38\u001b[0m\n\u001b[1;32m     35\u001b[0m \u001b[38;5;28;01mimport\u001b[39;00m \u001b[38;5;21;01msys\u001b[39;00m\n\u001b[1;32m     36\u001b[0m \u001b[38;5;28;01mimport\u001b[39;00m \u001b[38;5;21;01mtypes\u001b[39;00m\n\u001b[0;32m---> 38\u001b[0m \u001b[38;5;28;01mimport\u001b[39;00m \u001b[38;5;21;01m_tkinter\u001b[39;00m \u001b[38;5;66;03m# If this fails your Python may not be configured for Tk\u001b[39;00m\n\u001b[1;32m     39\u001b[0m TclError \u001b[38;5;241m=\u001b[39m _tkinter\u001b[38;5;241m.\u001b[39mTclError\n\u001b[1;32m     40\u001b[0m \u001b[38;5;28;01mfrom\u001b[39;00m \u001b[38;5;21;01mtkinter\u001b[39;00m\u001b[38;5;21;01m.\u001b[39;00m\u001b[38;5;21;01mconstants\u001b[39;00m \u001b[38;5;28;01mimport\u001b[39;00m \u001b[38;5;241m*\u001b[39m\n",
      "\u001b[0;31mModuleNotFoundError\u001b[0m: No module named '_tkinter'"
     ]
    }
   ],
   "source": [
    "import pandas as pd\n",
    "import random\n",
    "import tkinter as tk\n",
    "from tkinter import messagebox\n",
    "\n",
    "def pick_question():\n",
    "    # Randomly select a category\n",
    "    selected_category = random.choice(valid_categories_df['valid categories'])\n",
    "\n",
    "    # Filter the jeopardy data to get all questions from the selected category\n",
    "    questions_in_category = jeopardy_data_df[jeopardy_data_df['categories'] == selected_category]\n",
    "\n",
    "    # Randomly select a question from the selected category\n",
    "    selected_question = questions_in_category.sample().iloc[0]\n",
    "\n",
    "    # Extract relevant details\n",
    "    category = selected_question['category']\n",
    "    value = selected_question['value']\n",
    "    question = selected_question['question']\n",
    "    answer = selected_question['answer']\n",
    "\n",
    "    return category, value, question, answer\n",
    "\n",
    "def show_question():\n",
    "    # Get a new question and answer\n",
    "    category, value, question, answer = pick_question()\n",
    "\n",
    "    # Update the label with the new question\n",
    "    question_label.config(text=f\"Category: {category}\\nValue: {value}\\n\\n{question}\")\n",
    "\n",
    "    # Store the answer in a global variable\n",
    "    global current_answer\n",
    "    current_answer = answer\n",
    "\n",
    "def show_answer(event=None):\n",
    "    # Display the answer in a message box\n",
    "    messagebox.showinfo(\"Answer\", f\"The answer is: {current_answer}\")\n",
    "\n",
    "    # Show the next question\n",
    "    show_question()\n",
    "\n",
    "# Load the valid categories and jeopardy data\n",
    "valid_categories_df = pd.read_csv('valid_categories.csv')\n",
    "jeopardy_data_df = pd.read_csv('jeopardy_data.csv')\n",
    "\n",
    "# Initialize tkinter window\n",
    "root = tk.Tk()\n",
    "root.title(\"Jeopardy!\")\n",
    "root.geometry(\"600x300\")\n",
    "root.configure(bg=\"blue\")\n",
    "\n",
    "# Create a label to display the category, value, and question\n",
    "question_label = tk.Label(root, text=\"\", bg=\"blue\", fg=\"white\", font=(\"Arial\", 14), wraplength=500)\n",
    "question_label.pack(expand=True)\n",
    "\n",
    "# Bind the Enter key to display the answer\n",
    "root.bind('<Return>', show_answer)\n",
    "\n",
    "# Start by showing the first question\n",
    "show_question()\n",
    "\n",
    "# Run the tkinter main loop\n",
    "root.mainloop()"
   ]
  }
 ],
 "metadata": {
  "kernelspec": {
   "display_name": "Python 3",
   "language": "python",
   "name": "python3"
  },
  "language_info": {
   "codemirror_mode": {
    "name": "ipython",
    "version": 3
   },
   "file_extension": ".py",
   "mimetype": "text/x-python",
   "name": "python",
   "nbconvert_exporter": "python",
   "pygments_lexer": "ipython3",
   "version": "3.11.3"
  }
 },
 "nbformat": 4,
 "nbformat_minor": 2
}
